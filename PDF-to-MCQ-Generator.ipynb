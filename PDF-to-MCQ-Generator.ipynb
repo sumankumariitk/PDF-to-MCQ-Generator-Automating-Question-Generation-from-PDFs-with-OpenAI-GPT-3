{
 "cells": [
  {
   "cell_type": "code",
   "execution_count": null,
   "metadata": {},
   "outputs": [],
   "source": [
    "import PyPDF2\n",
    "import openai\n",
    "import time"
   ]
  },
  {
   "cell_type": "code",
   "execution_count": null,
   "metadata": {},
   "outputs": [],
   "source": [
    "def read_pdf(file_path, page_number=None):\n",
    "    text = \"\"\n",
    "    with open(file_path, \"rb\") as file:\n",
    "        pdf_reader = PyPDF2.PdfReader(file)\n",
    "\n",
    "        if page_number is not None and 0 <= page_number < len(pdf_reader.pages):\n",
    "            # Read a specific page\n",
    "            page = pdf_reader.pages[page_number]\n",
    "            text += page.extract_text()\n",
    "        else:\n",
    "            # Read all pages\n",
    "            for page_num in range(len(pdf_reader.pages)):\n",
    "                page = pdf_reader.pages[page_num]\n",
    "                text += page.extract_text()\n",
    "\n",
    "    return text\n",
    "\n",
    "def read_pdf_page(file_path, page_number=None):\n",
    "    if page_number is not None:\n",
    "        return read_pdf(file_path, page_number)\n",
    "    else:\n",
    "        return read_pdf(file_path)"
   ]
  },
  {
   "cell_type": "code",
   "execution_count": null,
   "metadata": {},
   "outputs": [],
   "source": [
    "# Set your OpenAI API key\n",
    "openai.api_key = 'YOUROPENAI API'"
   ]
  },
  {
   "cell_type": "code",
   "execution_count": null,
   "metadata": {},
   "outputs": [],
   "source": [
    "def generate_questions_with_gpt3(context, num_questions=1, num_correct_options=2):\n",
    "    prompt = f\"Generate multiple-choice questions based on the following paragraph:\\n\\n{context}\\n\\n1. Which of the following are examples of light-dependent reactions in photosynthesis?\\n   a. Stripping electrons from suitable substances\\n   b. Reducing and removing compounds\\n   c. Producing glucose\\n   d. Creating NADPH and ATP\\n   Correct Options: (a) & (d)\\n\\n\"\n",
    "\n",
    "    # Introduce a delay to limit the rate of API calls\n",
    "    time.sleep(1)  # Sleep for 1 second\n",
    "    \n",
    "    # Use OpenAI API to generate questions\n",
    "    response = openai.Completion.create(\n",
    "        engine=\"text-davinci-003\",  # You can experiment with different engines\n",
    "        prompt=prompt,\n",
    "        max_tokens=300  # Adjust as needed\n",
    "    )\n",
    "\n",
    "    # Extract and format the generated questions and options\n",
    "    generated_questions = response['choices'][0]['text'].split('\\n')[1:-1]\n",
    "    formatted_questions = []\n",
    "    \n",
    "    for q in generated_questions:\n",
    "        question_text = q.split(' ', 1)[1]\n",
    "        options = ['a. ' + q.split(f'{chr(97+i)}. ')[1] for i in range(4)]\n",
    "        \n",
    "        correct_options_start = q.find('Correct Options:')\n",
    "        correct_options_end = q.find('\\n', correct_options_start)\n",
    "        correct_options_str = q[correct_options_start + len('Correct Options:'):correct_options_end].strip()\n",
    "\n",
    "        # Extract exactly num_correct_options correct options\n",
    "        correct_options_list = [opt.strip() for opt in correct_options_str.split('&')][:num_correct_options]\n",
    "\n",
    "        # Format the question and append to the list\n",
    "        formatted_questions.append({\n",
    "            'question': question_text,\n",
    "            'options': options,\n",
    "            'correct_options': correct_options_list\n",
    "        })\n",
    "\n",
    "    return formatted_questions[:num_questions]"
   ]
  },
  {
   "cell_type": "code",
   "execution_count": null,
   "metadata": {},
   "outputs": [],
   "source": [
    "# Example usage to read all pages\n",
    "pdf_file_path = r\"C:\\Users\\chapter-2.pdf\"\n",
    "pdf_text_all_pages = read_pdf_page(pdf_file_path)\n",
    "print(pdf_text_all_pages)\n"
   ]
  },
  {
   "cell_type": "code",
   "execution_count": null,
   "metadata": {},
   "outputs": [],
   "source": [
    "# Example usage to read a specific page (e.g., page 1)\n",
    "specific_page_number = 1  # Adjust as needed\n",
    "pdf_text_specific_page = read_pdf_page(pdf_file_path, page_number=specific_page_number)\n",
    "print(pdf_text_specific_page)"
   ]
  },
  {
   "cell_type": "code",
   "execution_count": null,
   "metadata": {},
   "outputs": [],
   "source": [
    "# Example usage\n",
    "context = pdf_text_specific_page"
   ]
  },
  {
   "cell_type": "code",
   "execution_count": null,
   "metadata": {},
   "outputs": [],
   "source": [
    "num_questions_to_generate = 3  # Set the number of questions you want\n",
    "num_correct_options_per_question = 2  # Set the number of correct options per question\n",
    "questions = generate_questions_with_gpt3(context, num_questions=num_questions_to_generate, num_correct_options=num_correct_options_per_question)"
   ]
  },
  {
   "cell_type": "code",
   "execution_count": null,
   "metadata": {},
   "outputs": [],
   "source": [
    "for idx, q in enumerate(questions, start=1):\n",
    "    print(f\"Question {idx}: {q['question']}\")\n",
    "    print(\"Options:\", q['options'])\n",
    "    print(f\"Correct Options: {', '.join(q['correct_options'])}\")\n",
    "    print()"
   ]
  }
 ],
 "metadata": {
  "language_info": {
   "name": "python"
  }
 },
 "nbformat": 4,
 "nbformat_minor": 2
}
